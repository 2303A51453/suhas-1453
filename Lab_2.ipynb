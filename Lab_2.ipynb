{
  "nbformat": 4,
  "nbformat_minor": 0,
  "metadata": {
    "colab": {
      "provenance": [],
      "authorship_tag": "ABX9TyPTCs9q0aTCUnMvshN18bFf",
      "include_colab_link": true
    },
    "kernelspec": {
      "name": "python3",
      "display_name": "Python 3"
    },
    "language_info": {
      "name": "python"
    }
  },
  "cells": [
    {
      "cell_type": "markdown",
      "metadata": {
        "id": "view-in-github",
        "colab_type": "text"
      },
      "source": [
        "<a href=\"https://colab.research.google.com/github/2303A51453/suhas-1453/blob/main/Lab_2.ipynb\" target=\"_parent\"><img src=\"https://colab.research.google.com/assets/colab-badge.svg\" alt=\"Open In Colab\"/></a>"
      ]
    },
    {
      "cell_type": "code",
      "execution_count": 4,
      "metadata": {
        "colab": {
          "base_uri": "https://localhost:8080/",
          "height": 770
        },
        "id": "c6jU97vWIRM_",
        "outputId": "5e6ae319-9b83-44b3-aff8-02249d0c437d"
      },
      "outputs": [
        {
          "output_type": "stream",
          "name": "stdout",
          "text": [
            "Enter total number of people (n): 76\n",
            "Enter number of places (r): 9\n",
            "\n",
            "Step-by-Step Calculation for 76P9:\n",
            "Formula: nPr = n! / (n - r)!\n",
            "76! = 76 × 75 × 74 × 73 × 72 × 71 × 70 × 69 × 68 × 67 × 66 × 65 × 64 × 63 × 62 × 61 × 60 × 59 × 58 × 57 × 56 × 55 × 54 × 53 × 52 × 51 × 50 × 49 × 48 × 47 × 46 × 45 × 44 × 43 × 42 × 41 × 40 × 39 × 38 × 37 × 36 × 35 × 34 × 33 × 32 × 31 × 30 × 29 × 28 × 27 × 26 × 25 × 24 × 23 × 22 × 21 × 20 × 19 × 18 × 17 × 16 × 15 × 14 × 13 × 12 × 11 × 10 × 9 × 8 × 7 × 6 × 5 × 4 × 3 × 2 × 1 = 1885494701666050254987932260861146558230394535379329335672487982961844043495537923117729972224000000000000000000\n",
            "(76 - 9)! = 67! = 67 × 66 × 65 × 64 × 63 × 62 × 61 × 60 × 59 × 58 × 57 × 56 × 55 × 54 × 53 × 52 × 51 × 50 × 49 × 48 × 47 × 46 × 45 × 44 × 43 × 42 × 41 × 40 × 39 × 38 × 37 × 36 × 35 × 34 × 33 × 32 × 31 × 30 × 29 × 28 × 27 × 26 × 25 × 24 × 23 × 22 × 21 × 20 × 19 × 18 × 17 × 16 × 15 × 14 × 13 × 12 × 11 × 10 × 9 × 8 × 7 × 6 × 5 × 4 × 3 × 2 × 1 = 36471110918188685288249859096605464427167635314049524593701628500267962436943872000000000000000\n",
            "\n",
            "So, 76P9 = 1885494701666050254987932260861146558230394535379329335672487982961844043495537923117729972224000000000000000000 / 36471110918188685288249859096605464427167635314049524593701628500267962436943872000000000000000 = 51698307350592000\n",
            "\n",
            "Final Answer: 76P9 = 51698307350592000\n",
            "Default recursion limit in Python: 1000\n",
            "Enter a number to compute factorial: 09\n",
            "Recursive factorial of 9 = 362880\n",
            "Iterative factorial of 9 = 362880\n",
            "math.factorial(9) = 362880\n"
          ]
        },
        {
          "output_type": "display_data",
          "data": {
            "text/plain": [
              "<Figure size 640x480 with 1 Axes>"
            ],
            "image/png": "[encoded data removed]"
          },
          "metadata": {}
        }
      ],
      "source": [
        "# LAB_1\n",
        "# Factorial in Permutations and Arrangements\n",
        "# 1 Question\n",
        "def factorial(n):\n",
        "    if n == 0 or n == 1:\n",
        "        return 1\n",
        "    else:\n",
        "        return n * factorial(n - 1)\n",
        "\n",
        "def permutations(n, r):\n",
        "    return factorial(n) // factorial(n - r)\n",
        "\n",
        "def permutation_breakdown(n, r):\n",
        "    print(f\"\\nStep-by-Step Calculation for {n}P{r}:\")\n",
        "    print(f\"Formula: nPr = n! / (n - r)!\")\n",
        "\n",
        "    print(f\"{n}! = \", end=\"\")\n",
        "    for i in range(n, 0, -1):\n",
        "        if i > 1:\n",
        "            print(f\"{i} × \", end=\"\")\n",
        "        else:\n",
        "            print(f\"{i}\", end=\"\")\n",
        "    print(f\" = {factorial(n)}\")\n",
        "\n",
        "    print(f\"({n} - {r})! = {n-r}! = \", end=\"\")\n",
        "    for i in range(n-r, 0, -1):\n",
        "        if i > 1:\n",
        "            print(f\"{i} × \", end=\"\")\n",
        "        else:\n",
        "            print(f\"{i}\", end=\"\")\n",
        "    print(f\" = {factorial(n-r)}\")\n",
        "\n",
        "    result = permutations(n, r)\n",
        "    print(f\"\\nSo, {n}P{r} = {factorial(n)} / {factorial(n-r)} = {result}\")\n",
        "    return result\n",
        "\n",
        "def seating_arrangement(n, r):\n",
        "    from itertools import permutations as perm\n",
        "    print(f\"\\nPossible seating arrangements of {n} people taken {r} at a time:\")\n",
        "    people = [f\"P{i+1}\" for i in range(n)]\n",
        "    for arrangement in list(perm(people, r)):\n",
        "        print(arrangement)\n",
        "\n",
        "if __name__ == \"__main__\":\n",
        "    n = int(input(\"Enter total number of people (n): \"))\n",
        "    r = int(input(\"Enter number of places (r): \"))\n",
        "\n",
        "    if n < r:\n",
        "        print(\"Invalid input! n must be greater than or equal to r.\")\n",
        "    else:\n",
        "        result = permutation_breakdown(n, r)\n",
        "        print(f\"\\nFinal Answer: {n}P{r} = {result}\")\n",
        "        # seating_arrangement(n, r)\n",
        "\n",
        "\n",
        "#Large Factorials – Performance Limitations\n",
        "# 2 Question\n",
        "import sys\n",
        "import math\n",
        "import matplotlib.pyplot as plt\n",
        "\n",
        "def factorial_recursive(n):\n",
        "    if n == 0 or n == 1:\n",
        "        return 1\n",
        "    else:\n",
        "        return n * factorial_recursive(n - 1)\n",
        "\n",
        "def factorial_iterative(n):\n",
        "    result = 1\n",
        "    for i in range(2, n + 1):\n",
        "        result *= i\n",
        "    return result\n",
        "\n",
        "if __name__ == \"__main__\":\n",
        "    print(f\"Default recursion limit in Python: {sys.getrecursionlimit()}\")\n",
        "    n = int(input(\"Enter a number to compute factorial: \"))\n",
        "\n",
        "    if n < 0:\n",
        "        print(\"Invalid input! Factorial is not defined for negative numbers.\")\n",
        "    elif n > 998:\n",
        "        print(f\"⚠ Warning: n = {n} exceeds safe recursion depth. Use iterative method instead.\")\n",
        "    else:\n",
        "        try:\n",
        "            rec_result = factorial_recursive(n)\n",
        "            print(f\"Recursive factorial of {n} = {rec_result}\")\n",
        "        except RecursionError:\n",
        "            print(f\" RecursionError: Maximum recursion depth exceeded for n = {n}\")\n",
        "\n",
        "    iter_result = factorial_iterative(n)\n",
        "    print(f\"Iterative factorial of {n} = {iter_result}\")\n",
        "    math_result = math.factorial(n)\n",
        "    print(f\"math.factorial({n}) = {math_result}\")\n",
        "\n",
        "    values = range(1, 20)\n",
        "    factorials = [math.factorial(x) for x in values]\n",
        "    plt.plot(values, factorials, marker=\"o\")\n",
        "    plt.title(\"Factorial Growth\")\n",
        "    plt.xlabel(\"n\")\n",
        "    plt.ylabel(\"n!\")\n",
        "    plt.show()"
      ]
    }
  ]
}